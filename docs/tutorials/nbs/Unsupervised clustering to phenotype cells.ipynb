{
 "cells": [
  {
   "cell_type": "markdown",
   "id": "3e0cc42f-cb26-4a90-b09f-43d87dd87cf0",
   "metadata": {},
   "source": [
    "# Cell phenotyping by unsupervised clustering of the single cell data"
   ]
  },
  {
   "cell_type": "code",
   "execution_count": 3,
   "id": "ffa62381-6e60-4b50-9339-d1a3aaccd201",
   "metadata": {},
   "outputs": [],
   "source": [
    "# import packages\n",
    "import scimap as sm\n",
    "import anndata as ad"
   ]
  },
  {
   "cell_type": "code",
   "execution_count": 4,
   "id": "d426546f-614d-4ffb-b204-e2a3c0c5618f",
   "metadata": {},
   "outputs": [],
   "source": [
    "# Load the data that we saved in the last tutorial - (Prepare data for SCIMAP)\n",
    "adata = ad.read_h5ad('/Users/aj/Dropbox (Partners HealthCare)/nirmal lab/resources/exemplarData/scimapExampleData/scimapExampleData.h5ad')"
   ]
  },
  {
   "cell_type": "code",
   "execution_count": null,
   "id": "de949ffe-1b67-4407-a579-9f99cc85ab51",
   "metadata": {},
   "outputs": [],
   "source": []
  }
 ],
 "metadata": {
  "kernelspec": {
   "display_name": "Python 3 (ipykernel)",
   "language": "python",
   "name": "python3"
  },
  "language_info": {
   "codemirror_mode": {
    "name": "ipython",
    "version": 3
   },
   "file_extension": ".py",
   "mimetype": "text/x-python",
   "name": "python",
   "nbconvert_exporter": "python",
   "pygments_lexer": "ipython3",
   "version": "3.10.13"
  }
 },
 "nbformat": 4,
 "nbformat_minor": 5
}
