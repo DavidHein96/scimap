{
 "cells": [
  {
   "cell_type": "markdown",
   "id": "1be33375-5961-4de0-b298-2e95bd03f000",
   "metadata": {},
   "source": [
    "# 📥 SCIMAP Demo Data"
   ]
  },
  {
   "cell_type": "markdown",
   "id": "19f306b3-25e3-4130-995e-382d59b74d2b",
   "metadata": {},
   "source": [
    "A short guide to downloading our exemplar data for trying out the **scimap toolbox**.\n",
    "\n",
    "Navigate to the Harvard Dataverse website and download the exemplar data (see screenshot below!)\n",
    "\n",
    "Data: https://doi.org/10.7910/DVN/C45JWT"
   ]
  },
  {
   "cell_type": "code",
   "execution_count": null,
   "id": "92580b41-d8b0-4472-b666-1863848d9e11",
   "metadata": {},
   "outputs": [],
   "source": []
  },
  {
   "cell_type": "markdown",
   "id": "13c8e569-21f0-4bfe-86db-33c4eb47651d",
   "metadata": {},
   "source": [
    "- Click on the \"Access Dataset\" → \"Original Format ZIP\" button.\n",
    "- Wait for the download to complete. The size of the file is approximately 40 MB.\n",
    "- Unzip the downloaded file to access the data.\n",
    "  \n",
    "To ensure that you can follow the tutorial correctly, please make sure that the following folder structure (screenshot below) is maintained:\n",
    "\n"
   ]
  },
  {
   "cell_type": "code",
   "execution_count": null,
   "id": "fd533e27-b744-4ecb-9834-84527f5432a9",
   "metadata": {},
   "outputs": [],
   "source": []
  },
  {
   "cell_type": "markdown",
   "id": "15b3e78f-7464-4bd8-9a95-e953a80f1b48",
   "metadata": {},
   "source": [
    "If you have any questions or encounter any issues while following the tutorial, please don't hesitate to contact us for assistance."
   ]
  },
  {
   "cell_type": "code",
   "execution_count": null,
   "id": "d74d7aeb-0bda-4448-9eb9-3d040cfb8ec6",
   "metadata": {},
   "outputs": [],
   "source": []
  }
 ],
 "metadata": {
  "kernelspec": {
   "display_name": "Python 3 (ipykernel)",
   "language": "python",
   "name": "python3"
  },
  "language_info": {
   "codemirror_mode": {
    "name": "ipython",
    "version": 3
   },
   "file_extension": ".py",
   "mimetype": "text/x-python",
   "name": "python",
   "nbconvert_exporter": "python",
   "pygments_lexer": "ipython3",
   "version": "3.10.13"
  }
 },
 "nbformat": 4,
 "nbformat_minor": 5
}
